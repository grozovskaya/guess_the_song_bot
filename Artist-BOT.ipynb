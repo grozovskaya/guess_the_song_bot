{
 "cells": [
  {
   "cell_type": "markdown",
   "metadata": {},
   "source": [
    "# Краулеры.\n",
    "## Обкачиваем сайт с переводами песен\n",
    "1) http://www.perevod-pesen.ru/\n"
   ]
  },
  {
   "cell_type": "code",
   "execution_count": 1,
   "metadata": {},
   "outputs": [],
   "source": [
    "# ИМПОРТЫ\n",
    "\n",
    "import sqlite3\n",
    "# подключаемся к базе данных\n",
    "conn = sqlite3.connect('Artist_bot.db')\n",
    "c = conn.cursor()\n",
    "\n",
    "import urllib.request\n",
    "import requests\n",
    "from bs4 import BeautifulSoup\n",
    "import re\n",
    "\n",
    "import requests\n",
    "from pprint import pprint\n",
    "session = requests.session()\n",
    "\n",
    "from fake_useragent import UserAgent\n",
    "ua = UserAgent(verify_ssl=False)\n",
    "\n",
    "import random\n",
    "\n",
    "from collections import Counter"
   ]
  },
  {
   "cell_type": "code",
   "execution_count": 2,
   "metadata": {},
   "outputs": [],
   "source": [
    "artists_text = \"\"\"30 Seconds To Mars\n",
    "Abba\n",
    "Adele\n",
    "Ariana Grande\n",
    "Bhad Bhabie\n",
    "Billie Eilish\n",
    "Britney Spears\n",
    "Bruno Mars\n",
    "Calvin Harris\n",
    "Cardi B\n",
    "Carla’s Dreams\n",
    "Christina Aguilera\n",
    "Crystal Castles\n",
    "David Guetta\n",
    "Demi Lovato\n",
    "Ed Sheeran\n",
    "Eminem\n",
    "Elvis Presley\n",
    "Evanescence\n",
    "Fall Out Boy\n",
    "Flo Rida\n",
    "Green Day\n",
    "Guns N' Roses\n",
    "Hollywood Undead\n",
    "Imagine Dragons\n",
    "J Balvin\n",
    "Justin Bieber\n",
    "Kadebostany\n",
    "Kanye West\n",
    "Katy Perry\n",
    "Kesha\n",
    "Lady Gaga\n",
    "Lana Del Rey\n",
    "Lara Fabian\n",
    "Limp Bizkit\n",
    "Linkin Park\n",
    "Little Big\n",
    "LP\n",
    "Madonna\n",
    "Maroon 5\n",
    "Metallica\n",
    "Miley Cyrus\n",
    "Muse\n",
    "Nickelback\n",
    "Nicki Minaj\n",
    "Nirvana\n",
    "One Direction\n",
    "One Republic\n",
    "Panic! At The Disco\n",
    "Pentatonix\n",
    "Pink\n",
    "Placebo\n",
    "PSY\n",
    "Queen\n",
    "Radiohead\n",
    "Rammstein\n",
    "Rihanna\n",
    "Scorpions\n",
    "Selena Gomez\n",
    "Shakira\n",
    "Shawn Mendes\n",
    "Sia\n",
    "Skillet\n",
    "Slipknot\n",
    "Snoop Dogg\n",
    "Sunrise Avenue\n",
    "Taylor Swift\n",
    "The Beatles\n",
    "The Rolling Stones\n",
    "Three Days Grace\n",
    "twenty one pilots\n",
    "Zaz\"\"\"\n",
    "artists_low_text = artists_text.lower()"
   ]
  },
  {
   "cell_type": "markdown",
   "metadata": {},
   "source": [
    "Описание таблицы, составляющей базу данных:\n",
    "\n",
    "TABLE \"artist_bot\"\n",
    "- \"track_title\"\tTEXT,    \n",
    "- \"artist\"\tTEXT,    \n",
    "- \"text\"\tTEXT,    \n",
    "- \"translated_text\"\tTEXT;"
   ]
  },
  {
   "cell_type": "markdown",
   "metadata": {},
   "source": [
    "Теперь напишем функцию, которая притворяется браузером и скачивает страницы в html-формате:\n",
    "\n",
    "proxy - https://hidemy.name/ru/proxy-list/?__cf_chl_jschl_tk__=391721aada4a3535a69f9cdc6404b4298b4e903d-1591450563-0-AeIit57IiAUuOH3Y63-G0DgjmkEQvyJpcb-G3GLujM8z15l9tSWvlJmGe_n27AUBpnFOpbCAcxK2LVvKPFyPu9hnOMgMvd30FBvXfJX-7rxUYjzkGc2rM2t7yuuFxUxEG0J8OF6956XO8IFXsI_AQHV7c3s6CgtmVtJhdA_fz_LWUu4s67XzIv2Lo7pfsqOwhuR6VVoXAWBJVDXwCegPfLaXcMBQ_dKCilMmbEePIz4TF2NikkO2sKFcllB2O_jbYROooYr1Ph-ci-KoznY5Y6nLoKsVv9Riv2KvhX1YEmJY"
   ]
  },
  {
   "cell_type": "code",
   "execution_count": 3,
   "metadata": {},
   "outputs": [],
   "source": [
    "def download_page(page):\n",
    "\n",
    "    try:\n",
    "        headers = {'User-Agent': ua.random}\n",
    "        response = session.get(page, headers=headers)\n",
    "        html_text = response.text\n",
    "\n",
    "    except Exception:\n",
    "        known_proxy_ip = '138.197.157.32'\n",
    "        proxy = {'http': known_proxy_ip, 'https': known_proxy_ip}\n",
    "        response = session.get(page, proxies=proxy)\n",
    "        html_text = response.text\n",
    "\n",
    "\n",
    "    return html_text"
   ]
  },
  {
   "cell_type": "markdown",
   "metadata": {},
   "source": [
    "Функция, принимающая список строк; заменяющая системные обозначения на знаки; составляющая из строчек текст:"
   ]
  },
  {
   "cell_type": "code",
   "execution_count": 4,
   "metadata": {},
   "outputs": [],
   "source": [
    "def good_text(lines_list):\n",
    "    \n",
    "    good_lines = []\n",
    "    \n",
    "    for line in lines_list:\n",
    "        if line.startswith('[') and line.endswith(']'):\n",
    "            lines_list.remove(line)\n",
    "\n",
    "        elif line.startswith('\\n<h2 class=') and line.endswith('</h2>\\n'):\n",
    "            lines_list.remove(line)\n",
    "\n",
    "        elif len(line) <= 1:\n",
    "            lines_list.remove(line)\n",
    "            \n",
    "        else:\n",
    "            result = re.sub('&#171;','«', line)\n",
    "            mid_res = re.sub('&#187;','»', result)\n",
    "            mid2_res = re.sub('&#8212;','—', mid_res)\n",
    "            mid3_res = re.sub('&#038;','&', mid2_res)\n",
    "            mid4_res = re.sub('&#[0-9]+;',' ', mid3_res)\n",
    "            final_res = re.sub('&#8217;','’', mid4_res)\n",
    "\n",
    "            good_lines.append(final_res)\n",
    "            \n",
    "    good_text = '\\n'.join(good_lines)\n",
    "    \n",
    "    return good_text"
   ]
  },
  {
   "cell_type": "markdown",
   "metadata": {},
   "source": [
    "Функция, заполняющая таблицу:\n",
    "\n",
    "Загвоздка была в том, что на выбранном для скачивания сайте разные страницы внутри устроены немного по-разному, поэтому приходится применять 2 разных метода выкачивания инфы"
   ]
  },
  {
   "cell_type": "code",
   "execution_count": 5,
   "metadata": {},
   "outputs": [],
   "source": [
    "def fullfill_table_texts(track_link, artist): \n",
    "    \n",
    "    page_text = download_page(track_link)\n",
    "\n",
    "    try:        \n",
    "        soup = BeautifulSoup(page_text,'html.parser')\n",
    "        \n",
    "        trantxt = soup.find('div', {'class' : 'perevod-right'}) # Переведённый текст\n",
    "        text_trantxt = trantxt.get_text()\n",
    "        translated_text = good_text(text_trantxt.split('\\n'))\n",
    "\n",
    "        \n",
    "        orig = soup.find('div', {'class' : 'tekst-left'}) # Текст\n",
    "        text_text= orig.get_text()\n",
    "        text = good_text(text_text.split('\\n'))\n",
    "\n",
    "        \n",
    "        tit = soup.find('h2', {'class' : 'h2tekst'}) # Название\n",
    "        high_title = tit.get_text()\n",
    "        title = high_title.lower()\n",
    "\n",
    "        c.execute(\"INSERT INTO all_tracks VALUES (?,?,?,?)\", \n",
    "                  (title, artist, translated_text, text) )\n",
    "        conn.commit()\n",
    "        \n",
    "    except AttributeError or OSError:\n",
    "        \n",
    "        search_cat = re.compile('</div>\\n<div class=\"prvd\">(.*?)</div>', flags= re.DOTALL) # Переведённый текст\n",
    "        tran_lines_list = search_cat.findall(page_text)\n",
    "        translated_text = good_text(tran_lines_list[1:])\n",
    "        \n",
    "        search_cat = re.compile('<div class=\"stroka\">\\n<div class=\"text\">(.*?)</div>', flags= re.DOTALL) # Текст\n",
    "        text_lines_list = search_cat.findall(page_text)\n",
    "        text = good_text(text_lines_list[1:])\n",
    "        \n",
    "        tit = soup.find('h2', {'class' : 'h2tekst'}) # Название\n",
    "        high_title = tit.get_text()\n",
    "        title = high_title.lower()\n",
    "\n",
    "        c.execute(\"INSERT INTO all_tracks VALUES (?,?,?,?)\", \n",
    "                  (title, artist, translated_text, text) )\n",
    "        conn.commit()"
   ]
  },
  {
   "cell_type": "markdown",
   "metadata": {},
   "source": [
    "Артисты:"
   ]
  },
  {
   "cell_type": "code",
   "execution_count": 6,
   "metadata": {
    "scrolled": true
   },
   "outputs": [
    {
     "name": "stdout",
     "output_type": "stream",
     "text": [
      "['30 seconds to mars', 'abba', 'adele', 'ariana grande', 'bhad bhabie', 'billie eilish', 'britney spears', 'bruno mars', 'calvin harris', 'cardi b', 'carla’s dreams', 'christina aguilera', 'crystal castles', 'david guetta', 'demi lovato', 'ed sheeran', 'eminem', 'elvis presley', 'evanescence', 'fall out boy', 'flo rida', 'green day', \"guns n' roses\", 'hollywood undead', 'imagine dragons', 'j balvin', 'justin bieber', 'kadebostany', 'kanye west', 'katy perry', 'kesha', 'lady gaga', 'lana del rey', 'lara fabian', 'limp bizkit', 'linkin park', 'little big', 'lp', 'madonna', 'maroon 5', 'metallica', 'miley cyrus', 'muse', 'nickelback', 'nicki minaj', 'nirvana', 'one direction', 'one republic', 'panic! at the disco', 'pentatonix', 'pink', 'placebo', 'psy', 'queen', 'radiohead', 'rammstein', 'rihanna', 'scorpions', 'selena gomez', 'shakira', 'shawn mendes', 'sia', 'skillet', 'slipknot', 'snoop dogg', 'sunrise avenue', 'taylor swift', 'the beatles', 'the rolling stones', 'three days grace', 'twenty one pilots', 'zaz']\n",
      "72\n"
     ]
    }
   ],
   "source": [
    "artists = artists_low_text.split(\"\\n\")\n",
    "print (artists)\n",
    "print(len(artists))"
   ]
  },
  {
   "cell_type": "markdown",
   "metadata": {},
   "source": [
    "Страница каждого исполнителя из списка, с неё выбираются ссылки на страницы всех его треков:"
   ]
  },
  {
   "cell_type": "code",
   "execution_count": 7,
   "metadata": {},
   "outputs": [
    {
     "name": "stdout",
     "output_type": "stream",
     "text": [
      "Ошибка\n",
      "Ошибка\n",
      "Ошибка\n",
      "Ошибка\n",
      "Ошибка\n"
     ]
    }
   ],
   "source": [
    "for one in artists:\n",
    "    first_letter = one[0]\n",
    "    name = '-'.join(one.split())\n",
    "    page = 'http://www.perevod-pesen.ru/category/' + first_letter + '/' + (name) + '/'\n",
    "    try:    \n",
    "        page_text = download_page(page)\n",
    "        search_cat = re.compile('''<h2 class=\"wpex-loop-entry-title\">\\n<a href=\"(.*?)\" title=''', flags= re.DOTALL)\n",
    "        all_tracks_links = search_cat.findall(page_text)\n",
    "        \n",
    "        for track in all_tracks_links:\n",
    "            fullfill_table_texts(track, one)\n",
    "\n",
    "    except Exception:\n",
    "        print('Ошибка')\n",
    "        continue"
   ]
  },
  {
   "cell_type": "markdown",
   "metadata": {},
   "source": [
    "Посмотрела на всё скачанное в БД. Стало понятно, что есть всякие недоработки, подчистила их здесь:"
   ]
  },
  {
   "cell_type": "code",
   "execution_count": 8,
   "metadata": {
    "scrolled": false
   },
   "outputs": [],
   "source": [
    "c.execute('SELECT text FROM all_tracks')\n",
    "for each_one in c.fetchall():\n",
    "    each_text = each_one[0]\n",
    "    lines = each_text.split('\\n')\n",
    "    #print(lines)\n",
    "    if len(lines) == 1 or lines[1] == 'ПОКАЗАТЬ ТЕКСТ ПЕСНИ':\n",
    "        c.execute('DELETE FROM all_tracks WHERE text=?',(each_text, ))\n",
    "        conn.commit()"
   ]
  },
  {
   "cell_type": "code",
   "execution_count": 9,
   "metadata": {},
   "outputs": [],
   "source": [
    "c.execute('SELECT translated_text FROM all_tracks')\n",
    "for each_one in c.fetchall():\n",
    "    each_text = each_one[0]\n",
    "    lines = each_text.split('\\n')\n",
    "    \n",
    "    if lines[0].startswith('<a href=\"#a1\">'):\n",
    "        new_lines = lines[1:]\n",
    "        new_text = '\\n'.join(new_lines)    \n",
    "        c.execute('UPDATE all_tracks SET translated_text = ? WHERE translated_text = ?',(new_text, each_text ))\n",
    "        conn.commit()"
   ]
  },
  {
   "cell_type": "markdown",
   "metadata": {},
   "source": [
    "Ура! 697 итоговых треков!"
   ]
  }
 ],
 "metadata": {
  "kernelspec": {
   "display_name": "Python 3",
   "language": "python",
   "name": "python3"
  },
  "language_info": {
   "codemirror_mode": {
    "name": "ipython",
    "version": 3
   },
   "file_extension": ".py",
   "mimetype": "text/x-python",
   "name": "python",
   "nbconvert_exporter": "python",
   "pygments_lexer": "ipython3",
   "version": "3.7.3"
  }
 },
 "nbformat": 4,
 "nbformat_minor": 2
}
